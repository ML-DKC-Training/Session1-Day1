{
 "cells": [
  {
   "cell_type": "markdown",
   "metadata": {},
   "source": [
    "## Vectors\n",
    "\n",
    "A vector is typically an ordered data object of numbers which have both a magnitude and direction. It's important to note that vectors are an <b>element</b> of a vector space. \n",
    "\n",
    "Matrices,on the other hand, are a rectangular array of values. A vector is simply a one dimensional matrix. \n",
    "\n",
    "With that said, we <i>can</i> represent a vector with a list, for example: "
   ]
  },
  {
   "cell_type": "code",
   "execution_count": 12,
   "metadata": {},
   "outputs": [],
   "source": [
    "A = [2.0, 3.0, 5.0]"
   ]
  },
  {
   "cell_type": "code",
   "execution_count": 13,
   "metadata": {},
   "outputs": [
    {
     "name": "stdout",
     "output_type": "stream",
     "text": [
      "This is vector v: \n",
      "[2 3 5]\n",
      "This is vector u: \n",
      "[1 2 3]\n"
     ]
    }
   ],
   "source": [
    "# Using numpy to declare a vector \n",
    "import numpy as np\n",
    "v = np.array([2,3,5])\n",
    "u = np.array([1,2,3])\n",
    "\n",
    "print(\"This is vector v: \")\n",
    "print(v)\n",
    "\n",
    "print(\"This is vector u: \")\n",
    "print(u)"
   ]
  },
  {
   "cell_type": "code",
   "execution_count": 53,
   "metadata": {},
   "outputs": [
    {
     "name": "stdout",
     "output_type": "stream",
     "text": [
      "This is vector v_mat: \n",
      "[[2]\n",
      " [3]\n",
      " [5]]\n",
      "This is vector u_mat: \n",
      "[[1]\n",
      " [2]\n",
      " [3]]\n"
     ]
    }
   ],
   "source": [
    "# Once more\n",
    "v_mat=np.mat('[2;3;5')\n",
    "u_mat=np.mat('1;2;3')\n",
    "\n",
    "print(\"This is vector v_mat: \")\n",
    "print(v_mat)\n",
    "\n",
    "print(\"This is vector u_mat: \")\n",
    "print(u_mat)"
   ]
  },
  {
   "cell_type": "markdown",
   "metadata": {},
   "source": [
    "## So, whats the difference?\n",
    "\n",
    "Numpy matrices are strictly 2-dimensional, while numpy arrays  are N-dimensional. Matrix objects are a subclass of an array, so they inherit all the attributes and methods of arrays.\n",
    "\n",
    "The main advantage of numpy arrays is that they are more general than 2-dimensional matrices. What happens when you want a 3-dimensional array? (A tensor is a type of multi-dim array) Then you have to use an numpy array, not a matrix object. "
   ]
  },
  {
   "cell_type": "markdown",
   "metadata": {},
   "source": [
    "# Operations on Vectors"
   ]
  },
  {
   "cell_type": "code",
   "execution_count": 15,
   "metadata": {},
   "outputs": [
    {
     "name": "stdout",
     "output_type": "stream",
     "text": [
      "23\n",
      "3.7416573867739413\n",
      "6.164414002968976\n"
     ]
    }
   ],
   "source": [
    "#addition\n",
    "u+v\n",
    "    # or\n",
    "np.add(u,v)\n",
    "\n",
    "#dot product\n",
    "\n",
    "print(sum(u*v))\n",
    "    # or\n",
    "np.dot(u,v)\n",
    "\n",
    "#vector magnitute\n",
    "import scipy.linalg as norm\n",
    "print(norm.norm(u))\n",
    "print(norm.norm(v))\n",
    "    "
   ]
  },
  {
   "cell_type": "code",
   "execution_count": 16,
   "metadata": {},
   "outputs": [],
   "source": [
    "#Formula for calculating magnitute below"
   ]
  },
  {
   "cell_type": "markdown",
   "metadata": {},
   "source": [
    "![title](linear-algebra-with-python/norm.png)"
   ]
  },
  {
   "cell_type": "markdown",
   "metadata": {},
   "source": [
    "# Matricies\n",
    "\n",
    "A Matrix is a 2D array that stores real or complex numbers. You can think of them as multiple vectors in an array! You can use numpy to create matrices:"
   ]
  },
  {
   "cell_type": "code",
   "execution_count": 17,
   "metadata": {},
   "outputs": [],
   "source": [
    "matrix1 = np.array(\n",
    "    [[0, 4],\n",
    "     [2, 0]]\n",
    ")\n",
    "matrix2 = np.array(\n",
    "    [[-1, 2],\n",
    "     [1, -2]]\n",
    ")\n"
   ]
  },
  {
   "cell_type": "markdown",
   "metadata": {},
   "source": [
    "## Challenge\n",
    "\n",
    "Using `numpy`, create a 3 x 5 matrix with values of your choice. "
   ]
  },
  {
   "cell_type": "code",
   "execution_count": null,
   "metadata": {},
   "outputs": [],
   "source": []
  },
  {
   "cell_type": "code",
   "execution_count": null,
   "metadata": {},
   "outputs": [],
   "source": []
  },
  {
   "cell_type": "code",
   "execution_count": null,
   "metadata": {},
   "outputs": [],
   "source": []
  },
  {
   "cell_type": "code",
   "execution_count": null,
   "metadata": {},
   "outputs": [],
   "source": []
  },
  {
   "cell_type": "code",
   "execution_count": 18,
   "metadata": {},
   "outputs": [
    {
     "data": {
      "text/plain": [
       "(3, 5)"
      ]
     },
     "execution_count": 18,
     "metadata": {},
     "output_type": "execute_result"
    }
   ],
   "source": [
    "challenge_matrix = np.array([[1,3,2,4,5],\n",
    "                             [1,3,2,4,5],\n",
    "                             [1,3,2,4,5]])\n",
    "\n",
    "challenge_matrix.shape"
   ]
  },
  {
   "cell_type": "markdown",
   "metadata": {},
   "source": [
    "# Operations on Matricies"
   ]
  },
  {
   "cell_type": "markdown",
   "metadata": {},
   "source": [
    "### Matrix Addition"
   ]
  },
  {
   "cell_type": "code",
   "execution_count": 19,
   "metadata": {},
   "outputs": [],
   "source": [
    "matrix_sum = matrix1 + matrix2"
   ]
  },
  {
   "cell_type": "code",
   "execution_count": 20,
   "metadata": {},
   "outputs": [
    {
     "data": {
      "text/plain": [
       "array([[-1,  6],\n",
       "       [ 3, -2]])"
      ]
     },
     "execution_count": 20,
     "metadata": {},
     "output_type": "execute_result"
    }
   ],
   "source": [
    "matrix_sum"
   ]
  },
  {
   "cell_type": "markdown",
   "metadata": {},
   "source": [
    "### Matrix Substraction"
   ]
  },
  {
   "cell_type": "code",
   "execution_count": 21,
   "metadata": {},
   "outputs": [],
   "source": [
    "matrix_diff = matrix1 - matrix2"
   ]
  },
  {
   "cell_type": "code",
   "execution_count": 22,
   "metadata": {},
   "outputs": [
    {
     "data": {
      "text/plain": [
       "array([[1, 2],\n",
       "       [1, 2]])"
      ]
     },
     "execution_count": 22,
     "metadata": {},
     "output_type": "execute_result"
    }
   ],
   "source": [
    "matrix_diff"
   ]
  },
  {
   "cell_type": "markdown",
   "metadata": {},
   "source": [
    "# Matrix dot product"
   ]
  },
  {
   "cell_type": "code",
   "execution_count": 23,
   "metadata": {},
   "outputs": [
    {
     "data": {
      "text/plain": [
       "array([[ 4, -8],\n",
       "       [-2,  4]])"
      ]
     },
     "execution_count": 23,
     "metadata": {},
     "output_type": "execute_result"
    }
   ],
   "source": [
    "np.dot(matrix1,matrix2)"
   ]
  },
  {
   "cell_type": "markdown",
   "metadata": {},
   "source": [
    "### Matrix Transpose"
   ]
  },
  {
   "cell_type": "code",
   "execution_count": 26,
   "metadata": {},
   "outputs": [
    {
     "name": "stdout",
     "output_type": "stream",
     "text": [
      "[[1 3]\n",
      " [3 3]\n",
      " [1 1]]\n",
      "[[12 12  4]\n",
      " [ 2  6  2]]\n"
     ]
    }
   ],
   "source": [
    "# To take the dot product of two matricies, we require a mxn matrix and nxl matrix \n",
    "# where l is the number of rows in the second matrix.\n",
    "# If we want to multiply two matricies with the same dimensions we must \n",
    "# take the Transpose of one\n",
    "\n",
    "matrix_3 = np.array([[1,3],[3,3],[1,1]])\n",
    "print(matrix_3)\n",
    "#print(np.dot(matrix_1,matrix_3))\n",
    "\n",
    "import time\n",
    "\n",
    "start = time.time()\n",
    "matrix_3_tranpose = matrix_3.transpose()\n",
    "end = time.time()\n",
    "\n",
    "time = end-start\n",
    "print(time)\n",
    "\n",
    "start_1 =  time.time()\n",
    "np.transpose(matrix_3)\n",
    "end_1 = time.time()\n",
    "\n",
    "time_1 = end_1 -start_\n",
    "print(np.dot(matrix1,matrix_3_tranpose))"
   ]
  },
  {
   "cell_type": "markdown",
   "metadata": {},
   "source": [
    "### Properties of Matrix Multiplication\n",
    "\n",
    "Matrix multiplication is not commutative i.e. AB and BA are not equal"
   ]
  },
  {
   "cell_type": "code",
   "execution_count": 27,
   "metadata": {},
   "outputs": [
    {
     "name": "stdout",
     "output_type": "stream",
     "text": [
      "[[ 4 -8]\n",
      " [-2  4]]\n"
     ]
    }
   ],
   "source": [
    "a_b = print(np.dot(matrix1,matrix2))"
   ]
  },
  {
   "cell_type": "code",
   "execution_count": 28,
   "metadata": {},
   "outputs": [
    {
     "name": "stdout",
     "output_type": "stream",
     "text": [
      "[[ 4 -4]\n",
      " [-4  4]]\n"
     ]
    }
   ],
   "source": [
    "b_a = print(np.dot(matrix2,matrix1))"
   ]
  },
  {
   "cell_type": "markdown",
   "metadata": {},
   "source": [
    "### Generate Identity Matrix"
   ]
  },
  {
   "cell_type": "code",
   "execution_count": 29,
   "metadata": {},
   "outputs": [
    {
     "data": {
      "text/plain": [
       "array([[1., 0., 0., 0.],\n",
       "       [0., 1., 0., 0.],\n",
       "       [0., 0., 1., 0.],\n",
       "       [0., 0., 0., 1.]])"
      ]
     },
     "execution_count": 29,
     "metadata": {},
     "output_type": "execute_result"
    }
   ],
   "source": [
    "identity_4 = np.eye(4)\n",
    "identity_4"
   ]
  },
  {
   "cell_type": "markdown",
   "metadata": {},
   "source": [
    "### Matrix Inverse"
   ]
  },
  {
   "cell_type": "code",
   "execution_count": 31,
   "metadata": {},
   "outputs": [],
   "source": [
    "# We know that a matrix A is invertible if there exists a matrix A^-1 such that\n",
    "# A^-1(A) = I and AA^-1 = I\n",
    "\n",
    "inverse = np.linalg.inv(matrix_sum)"
   ]
  },
  {
   "cell_type": "code",
   "execution_count": 32,
   "metadata": {},
   "outputs": [
    {
     "data": {
      "text/plain": [
       "array([[0.125 , 0.375 ],\n",
       "       [0.1875, 0.0625]])"
      ]
     },
     "execution_count": 32,
     "metadata": {},
     "output_type": "execute_result"
    }
   ],
   "source": [
    "inverse"
   ]
  },
  {
   "cell_type": "markdown",
   "metadata": {},
   "source": [
    "## Challenge\n",
    "\n",
    "A =  [[1 2]\n",
    "      [3 4]]\n",
    "      \n",
    "B = [[-2.   1. ]\n",
    "     [ 1.5 -0.5]]\n",
    "     \n",
    "C = [[1 2 3]\n",
    "     [4 5 6]]\n",
    "     \n",
    "Given matrix A and B, mutiply AB - call this mat1. Mutiply BA - call this mat2. Are these matrix inverses?\n",
    "\n",
    "Given matrix C, create an identity matrix - call it id1 to multiply C*id1- call this mat3.\n",
    "\n",
    "Given matrix C, create an identity matrix - call it id2 to multiply id2*C- call this mat4."
   ]
  },
  {
   "cell_type": "code",
   "execution_count": null,
   "metadata": {},
   "outputs": [],
   "source": []
  },
  {
   "cell_type": "code",
   "execution_count": null,
   "metadata": {},
   "outputs": [],
   "source": []
  },
  {
   "cell_type": "code",
   "execution_count": 40,
   "metadata": {},
   "outputs": [
    {
     "data": {
      "text/plain": [
       "array([[-2. ,  1. ],\n",
       "       [ 1.5, -0.5]])"
      ]
     },
     "execution_count": 40,
     "metadata": {},
     "output_type": "execute_result"
    }
   ],
   "source": [
    "challenge_A = np.array([[1,2],[3,4]])\n",
    "\n",
    "inverse_challenge = np.linalg.inv(challenge_A)\n",
    "\n",
    "inverse_challenge"
   ]
  },
  {
   "cell_type": "markdown",
   "metadata": {},
   "source": [
    "## Matrix Trace\n",
    "\n",
    "The trace of a square (n x n) matrix is the sum of its elements along the main diagnal (upper left to lower right) "
   ]
  },
  {
   "cell_type": "code",
   "execution_count": 43,
   "metadata": {},
   "outputs": [
    {
     "data": {
      "text/plain": [
       "4"
      ]
     },
     "execution_count": 43,
     "metadata": {},
     "output_type": "execute_result"
    }
   ],
   "source": [
    "np.trace(matrix_3)"
   ]
  },
  {
   "cell_type": "markdown",
   "metadata": {},
   "source": [
    "### Matrix Determinant\n",
    "The determinant of a matrix is defined to be the alternating sum of permutations of the elements of a matrix. The formula is as follows:\n",
    "\n",
    "![title](linear-algebra-with-python/det.png)\n",
    "\n",
    "To compute a determinant, we require a square matrix."
   ]
  },
  {
   "cell_type": "code",
   "execution_count": 45,
   "metadata": {},
   "outputs": [],
   "source": [
    "# To get the determinant in Python:\n",
    "\n",
    "det = np.linalg.det(matrix_sum)\n",
    "\n",
    "# Determinants are very instrumental in solving systems of linear equations in that a system \n",
    "# of linear equations is said to have a unique solution if and only if its determinant is non-zero.\n",
    "\n",
    "# Specifically, The determinant of a square matrix A detects whether A is invertible: \n",
    "#If det(A)=0 then A is not invertible \n",
    "#If det(A) is not zero then A is invertible "
   ]
  },
  {
   "cell_type": "code",
   "execution_count": 46,
   "metadata": {},
   "outputs": [
    {
     "data": {
      "text/plain": [
       "-16.000000000000007"
      ]
     },
     "execution_count": 46,
     "metadata": {},
     "output_type": "execute_result"
    }
   ],
   "source": [
    "det"
   ]
  },
  {
   "cell_type": "markdown",
   "metadata": {},
   "source": [
    "## Solving systems of linear Equations"
   ]
  },
  {
   "cell_type": "code",
   "execution_count": 46,
   "metadata": {},
   "outputs": [
    {
     "ename": "SyntaxError",
     "evalue": "invalid syntax (<ipython-input-46-3f384d792457>, line 4)",
     "output_type": "error",
     "traceback": [
      "\u001b[0;36m  File \u001b[0;32m\"<ipython-input-46-3f384d792457>\"\u001b[0;36m, line \u001b[0;32m4\u001b[0m\n\u001b[0;31m    2y + 5z = −4\u001b[0m\n\u001b[0m     ^\u001b[0m\n\u001b[0;31mSyntaxError\u001b[0m\u001b[0;31m:\u001b[0m invalid syntax\n"
     ]
    }
   ],
   "source": [
    "#Say we want to solve the following system of equations\n",
    "\n",
    "x + y + z = 6\n",
    "2y + 5z = −4\n",
    "2x + 5y − z = 27\n",
    "\n",
    "#This can be representad by Ax = b:\n",
    "\n",
    "[1 1 1  [x]  = [6\n",
    "0 2 5   [y]    -4 \n",
    "2 5 -1] [z]    27]\n",
    "\n",
    "#So,\n",
    "#X = A^-1(b)\n"
   ]
  },
  {
   "cell_type": "code",
   "execution_count": 47,
   "metadata": {},
   "outputs": [
    {
     "data": {
      "text/plain": [
       "array([[ 1,  1,  1],\n",
       "       [ 0,  2,  5],\n",
       "       [ 2,  5, -1]])"
      ]
     },
     "execution_count": 47,
     "metadata": {},
     "output_type": "execute_result"
    }
   ],
   "source": [
    "matrix = np.array([[1,1,1],[0,2,5],[2,5,-1]])\n",
    "matrix"
   ]
  },
  {
   "cell_type": "code",
   "execution_count": 48,
   "metadata": {},
   "outputs": [],
   "source": [
    "inverse = np.linalg.inv(matrix)\n",
    "b = np.array([6,-4,27])\n",
    "solution = np.dot(inverse,b)"
   ]
  },
  {
   "cell_type": "code",
   "execution_count": 49,
   "metadata": {},
   "outputs": [
    {
     "name": "stdout",
     "output_type": "stream",
     "text": [
      "Solution\n",
      "x: 5.0\n",
      "y: 2.9999999999999996\n",
      "z: -1.9999999999999998\n"
     ]
    }
   ],
   "source": [
    "print(\"Solution\")\n",
    "print(\"x:\",solution[0])\n",
    "print(\"y:\",solution[1])\n",
    "print(\"z:\",solution[2])"
   ]
  },
  {
   "cell_type": "markdown",
   "metadata": {},
   "source": [
    "## Applicability to Data Science\n",
    "\n",
    "One of the most fundamental methods of numerical prediction is via liner regression. In linear regression we ask the basic question, how does Y change with resepct to some change in X? So, the task here is to compute some parameter value that holds this relationship. \n",
    "\n",
    "$ Y  = B_0 + B_1X_1 + B_2X_2 + ... + B_nX_n $\n",
    "\n",
    "Say, we wanted to understand the impact of a new fertilizer on crop yields. In this case, our Y would be crop yield (in kg's per acre) and X's would be various variable refering to the fertilizer. We could have tens or hundreds of X's for which we would need to compute individual parameters using perhaps tens of thousands of data rows. \n",
    "\n",
    "In some cases it is impossible to compute these parameters without linear algebra and it many cases it is extremely difficult (imagine having to do this by finding the roots). As we saw earlier, sklearn and statsmodel are built on top of Numpy and its ability to perform array operations efficiently. So, when we use sklearn of statsmodel we are ultimately using linear algebra. \n",
    "\n",
    "Lets use a dataset to do this via linear algebra and using matrix inverse. "
   ]
  },
  {
   "cell_type": "code",
   "execution_count": 48,
   "metadata": {},
   "outputs": [
    {
     "name": "stdout",
     "output_type": "stream",
     "text": [
      "(203, 15)\n"
     ]
    }
   ],
   "source": [
    "import pandas as pd\n",
    "df = pd.read_csv(\"yield_forecast.csv\")\n",
    "df = df.drop([\"asd_desc\",\"state\"],axis = 1)\n",
    "print(df.shape)\n"
   ]
  },
  {
   "cell_type": "code",
   "execution_count": 49,
   "metadata": {},
   "outputs": [
    {
     "data": {
      "text/html": [
       "<div>\n",
       "<style scoped>\n",
       "    .dataframe tbody tr th:only-of-type {\n",
       "        vertical-align: middle;\n",
       "    }\n",
       "\n",
       "    .dataframe tbody tr th {\n",
       "        vertical-align: top;\n",
       "    }\n",
       "\n",
       "    .dataframe thead th {\n",
       "        text-align: right;\n",
       "    }\n",
       "</style>\n",
       "<table border=\"1\" class=\"dataframe\">\n",
       "  <thead>\n",
       "    <tr style=\"text-align: right;\">\n",
       "      <th></th>\n",
       "      <th>cyield</th>\n",
       "      <th>irig_flag</th>\n",
       "      <th>days_under0</th>\n",
       "      <th>dewPoint</th>\n",
       "      <th>precipAccumulation</th>\n",
       "      <th>precip</th>\n",
       "      <th>days_under_n10</th>\n",
       "      <th>days_over42</th>\n",
       "      <th>days_over32</th>\n",
       "      <th>humidity</th>\n",
       "      <th>temp_delta</th>\n",
       "      <th>temperatureMin</th>\n",
       "      <th>apparentTemperatureMin</th>\n",
       "      <th>precipIntensity</th>\n",
       "      <th>y_pred</th>\n",
       "    </tr>\n",
       "  </thead>\n",
       "  <tbody>\n",
       "    <tr>\n",
       "      <th>0</th>\n",
       "      <td>91.7</td>\n",
       "      <td>1</td>\n",
       "      <td>0.0</td>\n",
       "      <td>33.626884</td>\n",
       "      <td>25.550</td>\n",
       "      <td>118.0</td>\n",
       "      <td>0.0</td>\n",
       "      <td>203.0</td>\n",
       "      <td>214.0</td>\n",
       "      <td>0.499395</td>\n",
       "      <td>24.403767</td>\n",
       "      <td>44.021628</td>\n",
       "      <td>41.704372</td>\n",
       "      <td>0.003418</td>\n",
       "      <td>95.130667</td>\n",
       "    </tr>\n",
       "    <tr>\n",
       "      <th>1</th>\n",
       "      <td>110.0</td>\n",
       "      <td>1</td>\n",
       "      <td>0.0</td>\n",
       "      <td>34.370654</td>\n",
       "      <td>8.030</td>\n",
       "      <td>157.0</td>\n",
       "      <td>0.0</td>\n",
       "      <td>206.0</td>\n",
       "      <td>213.0</td>\n",
       "      <td>0.522570</td>\n",
       "      <td>25.096075</td>\n",
       "      <td>42.816776</td>\n",
       "      <td>40.463224</td>\n",
       "      <td>0.002680</td>\n",
       "      <td>95.130667</td>\n",
       "    </tr>\n",
       "    <tr>\n",
       "      <th>2</th>\n",
       "      <td>95.9</td>\n",
       "      <td>1</td>\n",
       "      <td>0.0</td>\n",
       "      <td>35.726977</td>\n",
       "      <td>9.752</td>\n",
       "      <td>129.0</td>\n",
       "      <td>0.0</td>\n",
       "      <td>208.0</td>\n",
       "      <td>215.0</td>\n",
       "      <td>0.518465</td>\n",
       "      <td>25.992884</td>\n",
       "      <td>44.433674</td>\n",
       "      <td>42.092744</td>\n",
       "      <td>0.002350</td>\n",
       "      <td>95.130667</td>\n",
       "    </tr>\n",
       "    <tr>\n",
       "      <th>3</th>\n",
       "      <td>104.2</td>\n",
       "      <td>1</td>\n",
       "      <td>0.0</td>\n",
       "      <td>37.326402</td>\n",
       "      <td>1.089</td>\n",
       "      <td>146.0</td>\n",
       "      <td>0.0</td>\n",
       "      <td>213.0</td>\n",
       "      <td>213.0</td>\n",
       "      <td>0.512617</td>\n",
       "      <td>27.430888</td>\n",
       "      <td>46.196215</td>\n",
       "      <td>43.915981</td>\n",
       "      <td>0.002568</td>\n",
       "      <td>95.130667</td>\n",
       "    </tr>\n",
       "    <tr>\n",
       "      <th>4</th>\n",
       "      <td>97.4</td>\n",
       "      <td>1</td>\n",
       "      <td>0.0</td>\n",
       "      <td>38.406419</td>\n",
       "      <td>3.805</td>\n",
       "      <td>132.0</td>\n",
       "      <td>0.0</td>\n",
       "      <td>212.0</td>\n",
       "      <td>215.0</td>\n",
       "      <td>0.528884</td>\n",
       "      <td>27.271953</td>\n",
       "      <td>46.369070</td>\n",
       "      <td>44.069163</td>\n",
       "      <td>0.002329</td>\n",
       "      <td>95.130667</td>\n",
       "    </tr>\n",
       "    <tr>\n",
       "      <th>5</th>\n",
       "      <td>145.0</td>\n",
       "      <td>1</td>\n",
       "      <td>0.0</td>\n",
       "      <td>34.378551</td>\n",
       "      <td>1.254</td>\n",
       "      <td>137.0</td>\n",
       "      <td>0.0</td>\n",
       "      <td>207.0</td>\n",
       "      <td>213.0</td>\n",
       "      <td>0.531636</td>\n",
       "      <td>26.164019</td>\n",
       "      <td>40.776402</td>\n",
       "      <td>38.332290</td>\n",
       "      <td>0.001316</td>\n",
       "      <td>135.631579</td>\n",
       "    </tr>\n",
       "    <tr>\n",
       "      <th>6</th>\n",
       "      <td>135.9</td>\n",
       "      <td>1</td>\n",
       "      <td>0.0</td>\n",
       "      <td>31.529673</td>\n",
       "      <td>3.898</td>\n",
       "      <td>108.0</td>\n",
       "      <td>0.0</td>\n",
       "      <td>204.0</td>\n",
       "      <td>210.0</td>\n",
       "      <td>0.496449</td>\n",
       "      <td>27.080561</td>\n",
       "      <td>39.440280</td>\n",
       "      <td>36.112850</td>\n",
       "      <td>0.001222</td>\n",
       "      <td>142.791667</td>\n",
       "    </tr>\n",
       "    <tr>\n",
       "      <th>7</th>\n",
       "      <td>126.8</td>\n",
       "      <td>1</td>\n",
       "      <td>0.0</td>\n",
       "      <td>29.416308</td>\n",
       "      <td>2.191</td>\n",
       "      <td>106.0</td>\n",
       "      <td>0.0</td>\n",
       "      <td>212.0</td>\n",
       "      <td>214.0</td>\n",
       "      <td>0.441168</td>\n",
       "      <td>29.742430</td>\n",
       "      <td>39.777336</td>\n",
       "      <td>36.011589</td>\n",
       "      <td>0.000644</td>\n",
       "      <td>142.791667</td>\n",
       "    </tr>\n",
       "    <tr>\n",
       "      <th>8</th>\n",
       "      <td>137.5</td>\n",
       "      <td>1</td>\n",
       "      <td>0.0</td>\n",
       "      <td>32.244766</td>\n",
       "      <td>5.621</td>\n",
       "      <td>106.0</td>\n",
       "      <td>0.0</td>\n",
       "      <td>202.0</td>\n",
       "      <td>214.0</td>\n",
       "      <td>0.507804</td>\n",
       "      <td>29.107523</td>\n",
       "      <td>38.919673</td>\n",
       "      <td>34.844907</td>\n",
       "      <td>0.000912</td>\n",
       "      <td>137.315000</td>\n",
       "    </tr>\n",
       "    <tr>\n",
       "      <th>9</th>\n",
       "      <td>114.5</td>\n",
       "      <td>1</td>\n",
       "      <td>0.0</td>\n",
       "      <td>34.437804</td>\n",
       "      <td>2.945</td>\n",
       "      <td>148.0</td>\n",
       "      <td>0.0</td>\n",
       "      <td>206.0</td>\n",
       "      <td>213.0</td>\n",
       "      <td>0.533645</td>\n",
       "      <td>24.807477</td>\n",
       "      <td>41.086822</td>\n",
       "      <td>38.864159</td>\n",
       "      <td>0.001537</td>\n",
       "      <td>113.253226</td>\n",
       "    </tr>\n",
       "    <tr>\n",
       "      <th>10</th>\n",
       "      <td>143.5</td>\n",
       "      <td>1</td>\n",
       "      <td>0.0</td>\n",
       "      <td>31.294626</td>\n",
       "      <td>5.791</td>\n",
       "      <td>122.0</td>\n",
       "      <td>0.0</td>\n",
       "      <td>205.0</td>\n",
       "      <td>210.0</td>\n",
       "      <td>0.497850</td>\n",
       "      <td>25.930794</td>\n",
       "      <td>39.298271</td>\n",
       "      <td>35.955794</td>\n",
       "      <td>0.001502</td>\n",
       "      <td>142.791667</td>\n",
       "    </tr>\n",
       "    <tr>\n",
       "      <th>11</th>\n",
       "      <td>133.2</td>\n",
       "      <td>1</td>\n",
       "      <td>0.0</td>\n",
       "      <td>29.306512</td>\n",
       "      <td>3.736</td>\n",
       "      <td>113.0</td>\n",
       "      <td>0.0</td>\n",
       "      <td>210.0</td>\n",
       "      <td>215.0</td>\n",
       "      <td>0.452884</td>\n",
       "      <td>28.908326</td>\n",
       "      <td>39.121023</td>\n",
       "      <td>35.274698</td>\n",
       "      <td>0.000936</td>\n",
       "      <td>137.800000</td>\n",
       "    </tr>\n",
       "    <tr>\n",
       "      <th>12</th>\n",
       "      <td>127.2</td>\n",
       "      <td>1</td>\n",
       "      <td>0.0</td>\n",
       "      <td>36.126636</td>\n",
       "      <td>2.546</td>\n",
       "      <td>148.0</td>\n",
       "      <td>0.0</td>\n",
       "      <td>204.0</td>\n",
       "      <td>213.0</td>\n",
       "      <td>0.544439</td>\n",
       "      <td>24.923458</td>\n",
       "      <td>42.376215</td>\n",
       "      <td>40.206916</td>\n",
       "      <td>0.001910</td>\n",
       "      <td>110.961667</td>\n",
       "    </tr>\n",
       "    <tr>\n",
       "      <th>13</th>\n",
       "      <td>139.8</td>\n",
       "      <td>1</td>\n",
       "      <td>0.0</td>\n",
       "      <td>32.437290</td>\n",
       "      <td>3.607</td>\n",
       "      <td>122.0</td>\n",
       "      <td>0.0</td>\n",
       "      <td>205.0</td>\n",
       "      <td>211.0</td>\n",
       "      <td>0.494533</td>\n",
       "      <td>26.258598</td>\n",
       "      <td>40.886589</td>\n",
       "      <td>38.336916</td>\n",
       "      <td>0.001480</td>\n",
       "      <td>137.315000</td>\n",
       "    </tr>\n",
       "    <tr>\n",
       "      <th>14</th>\n",
       "      <td>132.6</td>\n",
       "      <td>1</td>\n",
       "      <td>0.0</td>\n",
       "      <td>30.045023</td>\n",
       "      <td>3.118</td>\n",
       "      <td>122.0</td>\n",
       "      <td>0.0</td>\n",
       "      <td>212.0</td>\n",
       "      <td>215.0</td>\n",
       "      <td>0.433953</td>\n",
       "      <td>28.600930</td>\n",
       "      <td>41.598791</td>\n",
       "      <td>38.969256</td>\n",
       "      <td>0.001027</td>\n",
       "      <td>135.631579</td>\n",
       "    </tr>\n",
       "    <tr>\n",
       "      <th>15</th>\n",
       "      <td>148.8</td>\n",
       "      <td>1</td>\n",
       "      <td>0.0</td>\n",
       "      <td>33.065841</td>\n",
       "      <td>4.816</td>\n",
       "      <td>143.0</td>\n",
       "      <td>0.0</td>\n",
       "      <td>204.0</td>\n",
       "      <td>211.0</td>\n",
       "      <td>0.534907</td>\n",
       "      <td>23.337664</td>\n",
       "      <td>40.342383</td>\n",
       "      <td>37.738972</td>\n",
       "      <td>0.001433</td>\n",
       "      <td>137.315000</td>\n",
       "    </tr>\n",
       "    <tr>\n",
       "      <th>16</th>\n",
       "      <td>155.2</td>\n",
       "      <td>1</td>\n",
       "      <td>0.0</td>\n",
       "      <td>31.020140</td>\n",
       "      <td>7.316</td>\n",
       "      <td>121.0</td>\n",
       "      <td>0.0</td>\n",
       "      <td>199.0</td>\n",
       "      <td>209.0</td>\n",
       "      <td>0.508224</td>\n",
       "      <td>24.821776</td>\n",
       "      <td>38.862617</td>\n",
       "      <td>35.209813</td>\n",
       "      <td>0.001402</td>\n",
       "      <td>162.100000</td>\n",
       "    </tr>\n",
       "    <tr>\n",
       "      <th>17</th>\n",
       "      <td>141.6</td>\n",
       "      <td>1</td>\n",
       "      <td>0.0</td>\n",
       "      <td>29.313953</td>\n",
       "      <td>3.614</td>\n",
       "      <td>113.0</td>\n",
       "      <td>0.0</td>\n",
       "      <td>207.0</td>\n",
       "      <td>215.0</td>\n",
       "      <td>0.457953</td>\n",
       "      <td>28.237070</td>\n",
       "      <td>39.090744</td>\n",
       "      <td>34.732512</td>\n",
       "      <td>0.000893</td>\n",
       "      <td>137.800000</td>\n",
       "    </tr>\n",
       "    <tr>\n",
       "      <th>18</th>\n",
       "      <td>166.7</td>\n",
       "      <td>1</td>\n",
       "      <td>0.0</td>\n",
       "      <td>31.101581</td>\n",
       "      <td>7.022</td>\n",
       "      <td>100.0</td>\n",
       "      <td>0.0</td>\n",
       "      <td>191.0</td>\n",
       "      <td>214.0</td>\n",
       "      <td>0.517814</td>\n",
       "      <td>26.715209</td>\n",
       "      <td>37.903256</td>\n",
       "      <td>32.906140</td>\n",
       "      <td>0.000993</td>\n",
       "      <td>162.100000</td>\n",
       "    </tr>\n",
       "    <tr>\n",
       "      <th>19</th>\n",
       "      <td>144.5</td>\n",
       "      <td>1</td>\n",
       "      <td>0.0</td>\n",
       "      <td>32.796542</td>\n",
       "      <td>2.977</td>\n",
       "      <td>135.0</td>\n",
       "      <td>0.0</td>\n",
       "      <td>204.0</td>\n",
       "      <td>213.0</td>\n",
       "      <td>0.531355</td>\n",
       "      <td>23.665701</td>\n",
       "      <td>40.506449</td>\n",
       "      <td>36.806075</td>\n",
       "      <td>0.001469</td>\n",
       "      <td>137.315000</td>\n",
       "    </tr>\n",
       "    <tr>\n",
       "      <th>20</th>\n",
       "      <td>145.0</td>\n",
       "      <td>1</td>\n",
       "      <td>0.0</td>\n",
       "      <td>31.229019</td>\n",
       "      <td>6.047</td>\n",
       "      <td>103.0</td>\n",
       "      <td>0.0</td>\n",
       "      <td>200.0</td>\n",
       "      <td>210.0</td>\n",
       "      <td>0.504346</td>\n",
       "      <td>25.301402</td>\n",
       "      <td>39.540280</td>\n",
       "      <td>35.427664</td>\n",
       "      <td>0.001231</td>\n",
       "      <td>142.791667</td>\n",
       "    </tr>\n",
       "    <tr>\n",
       "      <th>21</th>\n",
       "      <td>137.8</td>\n",
       "      <td>1</td>\n",
       "      <td>0.0</td>\n",
       "      <td>27.668930</td>\n",
       "      <td>2.309</td>\n",
       "      <td>95.0</td>\n",
       "      <td>0.0</td>\n",
       "      <td>209.0</td>\n",
       "      <td>215.0</td>\n",
       "      <td>0.424093</td>\n",
       "      <td>28.311535</td>\n",
       "      <td>39.917023</td>\n",
       "      <td>35.513767</td>\n",
       "      <td>0.000718</td>\n",
       "      <td>137.800000</td>\n",
       "    </tr>\n",
       "    <tr>\n",
       "      <th>22</th>\n",
       "      <td>137.5</td>\n",
       "      <td>1</td>\n",
       "      <td>0.0</td>\n",
       "      <td>30.084720</td>\n",
       "      <td>5.751</td>\n",
       "      <td>94.0</td>\n",
       "      <td>0.0</td>\n",
       "      <td>197.0</td>\n",
       "      <td>214.0</td>\n",
       "      <td>0.481682</td>\n",
       "      <td>27.605000</td>\n",
       "      <td>38.830794</td>\n",
       "      <td>34.322757</td>\n",
       "      <td>0.001031</td>\n",
       "      <td>142.791667</td>\n",
       "    </tr>\n",
       "    <tr>\n",
       "      <th>23</th>\n",
       "      <td>44.0</td>\n",
       "      <td>0</td>\n",
       "      <td>0.0</td>\n",
       "      <td>39.136916</td>\n",
       "      <td>0.304</td>\n",
       "      <td>85.0</td>\n",
       "      <td>0.0</td>\n",
       "      <td>211.0</td>\n",
       "      <td>214.0</td>\n",
       "      <td>0.520701</td>\n",
       "      <td>23.742617</td>\n",
       "      <td>47.390047</td>\n",
       "      <td>45.924533</td>\n",
       "      <td>0.001069</td>\n",
       "      <td>62.014634</td>\n",
       "    </tr>\n",
       "    <tr>\n",
       "      <th>24</th>\n",
       "      <td>72.8</td>\n",
       "      <td>0</td>\n",
       "      <td>0.0</td>\n",
       "      <td>37.450000</td>\n",
       "      <td>0.000</td>\n",
       "      <td>0.0</td>\n",
       "      <td>0.0</td>\n",
       "      <td>1.0</td>\n",
       "      <td>1.0</td>\n",
       "      <td>0.510000</td>\n",
       "      <td>28.130000</td>\n",
       "      <td>44.910000</td>\n",
       "      <td>44.260000</td>\n",
       "      <td>0.000000</td>\n",
       "      <td>62.014634</td>\n",
       "    </tr>\n",
       "    <tr>\n",
       "      <th>25</th>\n",
       "      <td>51.8</td>\n",
       "      <td>0</td>\n",
       "      <td>0.0</td>\n",
       "      <td>40.121449</td>\n",
       "      <td>0.027</td>\n",
       "      <td>147.0</td>\n",
       "      <td>0.0</td>\n",
       "      <td>210.0</td>\n",
       "      <td>214.0</td>\n",
       "      <td>0.618692</td>\n",
       "      <td>22.668084</td>\n",
       "      <td>44.656589</td>\n",
       "      <td>42.200280</td>\n",
       "      <td>0.002153</td>\n",
       "      <td>64.193939</td>\n",
       "    </tr>\n",
       "    <tr>\n",
       "      <th>26</th>\n",
       "      <td>66.1</td>\n",
       "      <td>0</td>\n",
       "      <td>0.0</td>\n",
       "      <td>39.943224</td>\n",
       "      <td>0.196</td>\n",
       "      <td>107.0</td>\n",
       "      <td>0.0</td>\n",
       "      <td>209.0</td>\n",
       "      <td>214.0</td>\n",
       "      <td>0.553364</td>\n",
       "      <td>23.273131</td>\n",
       "      <td>46.578224</td>\n",
       "      <td>45.827944</td>\n",
       "      <td>0.001258</td>\n",
       "      <td>62.014634</td>\n",
       "    </tr>\n",
       "    <tr>\n",
       "      <th>27</th>\n",
       "      <td>86.4</td>\n",
       "      <td>1</td>\n",
       "      <td>0.0</td>\n",
       "      <td>44.920000</td>\n",
       "      <td>0.000</td>\n",
       "      <td>1.0</td>\n",
       "      <td>0.0</td>\n",
       "      <td>1.0</td>\n",
       "      <td>1.0</td>\n",
       "      <td>0.750000</td>\n",
       "      <td>15.590000</td>\n",
       "      <td>43.480000</td>\n",
       "      <td>43.480000</td>\n",
       "      <td>0.004200</td>\n",
       "      <td>93.202941</td>\n",
       "    </tr>\n",
       "    <tr>\n",
       "      <th>28</th>\n",
       "      <td>69.4</td>\n",
       "      <td>0</td>\n",
       "      <td>0.0</td>\n",
       "      <td>42.048645</td>\n",
       "      <td>0.000</td>\n",
       "      <td>115.0</td>\n",
       "      <td>0.0</td>\n",
       "      <td>202.0</td>\n",
       "      <td>214.0</td>\n",
       "      <td>0.629673</td>\n",
       "      <td>20.758364</td>\n",
       "      <td>46.181449</td>\n",
       "      <td>45.295280</td>\n",
       "      <td>0.001848</td>\n",
       "      <td>56.740000</td>\n",
       "    </tr>\n",
       "    <tr>\n",
       "      <th>29</th>\n",
       "      <td>77.8</td>\n",
       "      <td>1</td>\n",
       "      <td>0.0</td>\n",
       "      <td>39.200000</td>\n",
       "      <td>0.000</td>\n",
       "      <td>0.0</td>\n",
       "      <td>0.0</td>\n",
       "      <td>1.0</td>\n",
       "      <td>1.0</td>\n",
       "      <td>0.550000</td>\n",
       "      <td>28.360000</td>\n",
       "      <td>44.410000</td>\n",
       "      <td>44.410000</td>\n",
       "      <td>0.000000</td>\n",
       "      <td>91.113043</td>\n",
       "    </tr>\n",
       "    <tr>\n",
       "      <th>...</th>\n",
       "      <td>...</td>\n",
       "      <td>...</td>\n",
       "      <td>...</td>\n",
       "      <td>...</td>\n",
       "      <td>...</td>\n",
       "      <td>...</td>\n",
       "      <td>...</td>\n",
       "      <td>...</td>\n",
       "      <td>...</td>\n",
       "      <td>...</td>\n",
       "      <td>...</td>\n",
       "      <td>...</td>\n",
       "      <td>...</td>\n",
       "      <td>...</td>\n",
       "      <td>...</td>\n",
       "    </tr>\n",
       "    <tr>\n",
       "      <th>173</th>\n",
       "      <td>48.0</td>\n",
       "      <td>0</td>\n",
       "      <td>0.0</td>\n",
       "      <td>37.240093</td>\n",
       "      <td>2.739</td>\n",
       "      <td>115.0</td>\n",
       "      <td>0.0</td>\n",
       "      <td>203.0</td>\n",
       "      <td>210.0</td>\n",
       "      <td>0.558551</td>\n",
       "      <td>23.124112</td>\n",
       "      <td>43.894439</td>\n",
       "      <td>40.166215</td>\n",
       "      <td>0.001935</td>\n",
       "      <td>49.266667</td>\n",
       "    </tr>\n",
       "    <tr>\n",
       "      <th>174</th>\n",
       "      <td>29.9</td>\n",
       "      <td>0</td>\n",
       "      <td>0.0</td>\n",
       "      <td>36.787383</td>\n",
       "      <td>2.199</td>\n",
       "      <td>117.0</td>\n",
       "      <td>0.0</td>\n",
       "      <td>193.0</td>\n",
       "      <td>203.0</td>\n",
       "      <td>0.567523</td>\n",
       "      <td>23.790888</td>\n",
       "      <td>42.256168</td>\n",
       "      <td>37.951822</td>\n",
       "      <td>0.002033</td>\n",
       "      <td>46.306818</td>\n",
       "    </tr>\n",
       "    <tr>\n",
       "      <th>175</th>\n",
       "      <td>92.5</td>\n",
       "      <td>1</td>\n",
       "      <td>0.0</td>\n",
       "      <td>33.648411</td>\n",
       "      <td>2.383</td>\n",
       "      <td>103.0</td>\n",
       "      <td>0.0</td>\n",
       "      <td>204.0</td>\n",
       "      <td>213.0</td>\n",
       "      <td>0.521308</td>\n",
       "      <td>27.771636</td>\n",
       "      <td>39.301495</td>\n",
       "      <td>36.088598</td>\n",
       "      <td>0.001819</td>\n",
       "      <td>95.130667</td>\n",
       "    </tr>\n",
       "    <tr>\n",
       "      <th>176</th>\n",
       "      <td>100.0</td>\n",
       "      <td>1</td>\n",
       "      <td>0.0</td>\n",
       "      <td>33.530888</td>\n",
       "      <td>4.055</td>\n",
       "      <td>117.0</td>\n",
       "      <td>0.0</td>\n",
       "      <td>191.0</td>\n",
       "      <td>210.0</td>\n",
       "      <td>0.526869</td>\n",
       "      <td>26.831963</td>\n",
       "      <td>38.738458</td>\n",
       "      <td>35.367290</td>\n",
       "      <td>0.001779</td>\n",
       "      <td>95.130667</td>\n",
       "    </tr>\n",
       "    <tr>\n",
       "      <th>177</th>\n",
       "      <td>61.6</td>\n",
       "      <td>0</td>\n",
       "      <td>0.0</td>\n",
       "      <td>35.974673</td>\n",
       "      <td>1.270</td>\n",
       "      <td>128.0</td>\n",
       "      <td>0.0</td>\n",
       "      <td>202.0</td>\n",
       "      <td>211.0</td>\n",
       "      <td>0.550981</td>\n",
       "      <td>25.277009</td>\n",
       "      <td>41.570654</td>\n",
       "      <td>39.482850</td>\n",
       "      <td>0.001663</td>\n",
       "      <td>43.858333</td>\n",
       "    </tr>\n",
       "    <tr>\n",
       "      <th>178</th>\n",
       "      <td>56.5</td>\n",
       "      <td>0</td>\n",
       "      <td>0.0</td>\n",
       "      <td>36.083785</td>\n",
       "      <td>3.311</td>\n",
       "      <td>133.0</td>\n",
       "      <td>0.0</td>\n",
       "      <td>189.0</td>\n",
       "      <td>207.0</td>\n",
       "      <td>0.564766</td>\n",
       "      <td>25.459346</td>\n",
       "      <td>40.104346</td>\n",
       "      <td>37.194953</td>\n",
       "      <td>0.001694</td>\n",
       "      <td>46.306818</td>\n",
       "    </tr>\n",
       "    <tr>\n",
       "      <th>179</th>\n",
       "      <td>87.4</td>\n",
       "      <td>1</td>\n",
       "      <td>0.0</td>\n",
       "      <td>38.064252</td>\n",
       "      <td>0.553</td>\n",
       "      <td>118.0</td>\n",
       "      <td>0.0</td>\n",
       "      <td>208.0</td>\n",
       "      <td>211.0</td>\n",
       "      <td>0.505888</td>\n",
       "      <td>23.890701</td>\n",
       "      <td>47.410421</td>\n",
       "      <td>44.970794</td>\n",
       "      <td>0.001325</td>\n",
       "      <td>113.253226</td>\n",
       "    </tr>\n",
       "    <tr>\n",
       "      <th>180</th>\n",
       "      <td>73.7</td>\n",
       "      <td>0</td>\n",
       "      <td>0.0</td>\n",
       "      <td>38.923832</td>\n",
       "      <td>3.774</td>\n",
       "      <td>121.0</td>\n",
       "      <td>0.0</td>\n",
       "      <td>193.0</td>\n",
       "      <td>206.0</td>\n",
       "      <td>0.530280</td>\n",
       "      <td>23.055421</td>\n",
       "      <td>46.744766</td>\n",
       "      <td>44.033131</td>\n",
       "      <td>0.001539</td>\n",
       "      <td>62.014634</td>\n",
       "    </tr>\n",
       "    <tr>\n",
       "      <th>181</th>\n",
       "      <td>112.3</td>\n",
       "      <td>1</td>\n",
       "      <td>0.0</td>\n",
       "      <td>36.001916</td>\n",
       "      <td>1.142</td>\n",
       "      <td>137.0</td>\n",
       "      <td>0.0</td>\n",
       "      <td>204.0</td>\n",
       "      <td>211.0</td>\n",
       "      <td>0.516308</td>\n",
       "      <td>23.691963</td>\n",
       "      <td>44.503411</td>\n",
       "      <td>41.898738</td>\n",
       "      <td>0.001380</td>\n",
       "      <td>113.253226</td>\n",
       "    </tr>\n",
       "    <tr>\n",
       "      <th>182</th>\n",
       "      <td>38.8</td>\n",
       "      <td>0</td>\n",
       "      <td>0.0</td>\n",
       "      <td>37.228084</td>\n",
       "      <td>2.777</td>\n",
       "      <td>124.0</td>\n",
       "      <td>0.0</td>\n",
       "      <td>193.0</td>\n",
       "      <td>205.0</td>\n",
       "      <td>0.544252</td>\n",
       "      <td>23.735374</td>\n",
       "      <td>43.286636</td>\n",
       "      <td>40.166402</td>\n",
       "      <td>0.001482</td>\n",
       "      <td>46.306818</td>\n",
       "    </tr>\n",
       "    <tr>\n",
       "      <th>183</th>\n",
       "      <td>43.8</td>\n",
       "      <td>0</td>\n",
       "      <td>0.0</td>\n",
       "      <td>35.980701</td>\n",
       "      <td>1.639</td>\n",
       "      <td>128.0</td>\n",
       "      <td>0.0</td>\n",
       "      <td>203.0</td>\n",
       "      <td>211.0</td>\n",
       "      <td>0.542150</td>\n",
       "      <td>24.474766</td>\n",
       "      <td>42.496215</td>\n",
       "      <td>39.829299</td>\n",
       "      <td>0.001696</td>\n",
       "      <td>46.306818</td>\n",
       "    </tr>\n",
       "    <tr>\n",
       "      <th>184</th>\n",
       "      <td>43.4</td>\n",
       "      <td>0</td>\n",
       "      <td>0.0</td>\n",
       "      <td>36.250981</td>\n",
       "      <td>3.399</td>\n",
       "      <td>134.0</td>\n",
       "      <td>0.0</td>\n",
       "      <td>189.0</td>\n",
       "      <td>204.0</td>\n",
       "      <td>0.559907</td>\n",
       "      <td>24.757897</td>\n",
       "      <td>40.840935</td>\n",
       "      <td>37.483084</td>\n",
       "      <td>0.001673</td>\n",
       "      <td>46.306818</td>\n",
       "    </tr>\n",
       "    <tr>\n",
       "      <th>185</th>\n",
       "      <td>48.8</td>\n",
       "      <td>0</td>\n",
       "      <td>0.0</td>\n",
       "      <td>36.655000</td>\n",
       "      <td>1.267</td>\n",
       "      <td>134.0</td>\n",
       "      <td>0.0</td>\n",
       "      <td>204.0</td>\n",
       "      <td>211.0</td>\n",
       "      <td>0.534813</td>\n",
       "      <td>23.103738</td>\n",
       "      <td>44.246121</td>\n",
       "      <td>41.540000</td>\n",
       "      <td>0.001720</td>\n",
       "      <td>46.306818</td>\n",
       "    </tr>\n",
       "    <tr>\n",
       "      <th>186</th>\n",
       "      <td>108.3</td>\n",
       "      <td>1</td>\n",
       "      <td>0.0</td>\n",
       "      <td>39.982477</td>\n",
       "      <td>5.594</td>\n",
       "      <td>119.0</td>\n",
       "      <td>0.0</td>\n",
       "      <td>193.0</td>\n",
       "      <td>205.0</td>\n",
       "      <td>0.566776</td>\n",
       "      <td>23.089206</td>\n",
       "      <td>45.811729</td>\n",
       "      <td>43.087009</td>\n",
       "      <td>0.002169</td>\n",
       "      <td>97.887500</td>\n",
       "    </tr>\n",
       "    <tr>\n",
       "      <th>187</th>\n",
       "      <td>54.7</td>\n",
       "      <td>0</td>\n",
       "      <td>0.0</td>\n",
       "      <td>37.775888</td>\n",
       "      <td>1.312</td>\n",
       "      <td>129.0</td>\n",
       "      <td>0.0</td>\n",
       "      <td>204.0</td>\n",
       "      <td>211.0</td>\n",
       "      <td>0.515841</td>\n",
       "      <td>22.858224</td>\n",
       "      <td>46.756542</td>\n",
       "      <td>44.088879</td>\n",
       "      <td>0.001641</td>\n",
       "      <td>56.740000</td>\n",
       "    </tr>\n",
       "    <tr>\n",
       "      <th>188</th>\n",
       "      <td>64.5</td>\n",
       "      <td>0</td>\n",
       "      <td>0.0</td>\n",
       "      <td>38.636121</td>\n",
       "      <td>3.716</td>\n",
       "      <td>123.0</td>\n",
       "      <td>0.0</td>\n",
       "      <td>194.0</td>\n",
       "      <td>203.0</td>\n",
       "      <td>0.543598</td>\n",
       "      <td>22.380234</td>\n",
       "      <td>46.005000</td>\n",
       "      <td>42.932710</td>\n",
       "      <td>0.001953</td>\n",
       "      <td>56.740000</td>\n",
       "    </tr>\n",
       "    <tr>\n",
       "      <th>189</th>\n",
       "      <td>55.0</td>\n",
       "      <td>0</td>\n",
       "      <td>0.0</td>\n",
       "      <td>49.570000</td>\n",
       "      <td>0.000</td>\n",
       "      <td>0.0</td>\n",
       "      <td>0.0</td>\n",
       "      <td>187.0</td>\n",
       "      <td>187.0</td>\n",
       "      <td>0.670000</td>\n",
       "      <td>21.110000</td>\n",
       "      <td>53.370000</td>\n",
       "      <td>53.370000</td>\n",
       "      <td>0.000000</td>\n",
       "      <td>51.415942</td>\n",
       "    </tr>\n",
       "    <tr>\n",
       "      <th>190</th>\n",
       "      <td>33.8</td>\n",
       "      <td>0</td>\n",
       "      <td>0.0</td>\n",
       "      <td>40.084065</td>\n",
       "      <td>48.760</td>\n",
       "      <td>138.0</td>\n",
       "      <td>0.0</td>\n",
       "      <td>183.0</td>\n",
       "      <td>200.0</td>\n",
       "      <td>0.595000</td>\n",
       "      <td>21.372243</td>\n",
       "      <td>45.207336</td>\n",
       "      <td>41.976916</td>\n",
       "      <td>0.003282</td>\n",
       "      <td>46.306818</td>\n",
       "    </tr>\n",
       "    <tr>\n",
       "      <th>191</th>\n",
       "      <td>103.1</td>\n",
       "      <td>1</td>\n",
       "      <td>0.0</td>\n",
       "      <td>40.833551</td>\n",
       "      <td>10.854</td>\n",
       "      <td>246.0</td>\n",
       "      <td>0.0</td>\n",
       "      <td>380.0</td>\n",
       "      <td>408.0</td>\n",
       "      <td>0.581402</td>\n",
       "      <td>22.694252</td>\n",
       "      <td>46.121028</td>\n",
       "      <td>43.190888</td>\n",
       "      <td>0.002148</td>\n",
       "      <td>95.130667</td>\n",
       "    </tr>\n",
       "    <tr>\n",
       "      <th>192</th>\n",
       "      <td>95.6</td>\n",
       "      <td>1</td>\n",
       "      <td>0.0</td>\n",
       "      <td>37.590607</td>\n",
       "      <td>0.110</td>\n",
       "      <td>94.0</td>\n",
       "      <td>0.0</td>\n",
       "      <td>210.0</td>\n",
       "      <td>213.0</td>\n",
       "      <td>0.459486</td>\n",
       "      <td>26.707150</td>\n",
       "      <td>48.234766</td>\n",
       "      <td>45.791636</td>\n",
       "      <td>0.000864</td>\n",
       "      <td>110.961667</td>\n",
       "    </tr>\n",
       "    <tr>\n",
       "      <th>193</th>\n",
       "      <td>85.5</td>\n",
       "      <td>1</td>\n",
       "      <td>0.0</td>\n",
       "      <td>40.946558</td>\n",
       "      <td>0.401</td>\n",
       "      <td>139.0</td>\n",
       "      <td>0.0</td>\n",
       "      <td>207.0</td>\n",
       "      <td>215.0</td>\n",
       "      <td>0.606465</td>\n",
       "      <td>24.844605</td>\n",
       "      <td>45.489814</td>\n",
       "      <td>42.519721</td>\n",
       "      <td>0.002283</td>\n",
       "      <td>95.130667</td>\n",
       "    </tr>\n",
       "    <tr>\n",
       "      <th>194</th>\n",
       "      <td>86.8</td>\n",
       "      <td>1</td>\n",
       "      <td>0.0</td>\n",
       "      <td>32.707617</td>\n",
       "      <td>18.117</td>\n",
       "      <td>110.0</td>\n",
       "      <td>0.0</td>\n",
       "      <td>190.0</td>\n",
       "      <td>205.0</td>\n",
       "      <td>0.472850</td>\n",
       "      <td>22.545140</td>\n",
       "      <td>44.380093</td>\n",
       "      <td>41.375514</td>\n",
       "      <td>0.000992</td>\n",
       "      <td>97.887500</td>\n",
       "    </tr>\n",
       "    <tr>\n",
       "      <th>195</th>\n",
       "      <td>110.0</td>\n",
       "      <td>1</td>\n",
       "      <td>0.0</td>\n",
       "      <td>34.983131</td>\n",
       "      <td>1.936</td>\n",
       "      <td>123.0</td>\n",
       "      <td>0.0</td>\n",
       "      <td>204.0</td>\n",
       "      <td>211.0</td>\n",
       "      <td>0.511215</td>\n",
       "      <td>22.364579</td>\n",
       "      <td>44.651449</td>\n",
       "      <td>42.177664</td>\n",
       "      <td>0.001321</td>\n",
       "      <td>95.130667</td>\n",
       "    </tr>\n",
       "    <tr>\n",
       "      <th>196</th>\n",
       "      <td>92.7</td>\n",
       "      <td>1</td>\n",
       "      <td>0.0</td>\n",
       "      <td>33.778224</td>\n",
       "      <td>13.226</td>\n",
       "      <td>134.0</td>\n",
       "      <td>0.0</td>\n",
       "      <td>187.0</td>\n",
       "      <td>205.0</td>\n",
       "      <td>0.507009</td>\n",
       "      <td>21.160888</td>\n",
       "      <td>43.928084</td>\n",
       "      <td>40.458645</td>\n",
       "      <td>0.001138</td>\n",
       "      <td>97.887500</td>\n",
       "    </tr>\n",
       "    <tr>\n",
       "      <th>197</th>\n",
       "      <td>103.6</td>\n",
       "      <td>1</td>\n",
       "      <td>0.0</td>\n",
       "      <td>34.749486</td>\n",
       "      <td>2.217</td>\n",
       "      <td>133.0</td>\n",
       "      <td>0.0</td>\n",
       "      <td>204.0</td>\n",
       "      <td>211.0</td>\n",
       "      <td>0.530374</td>\n",
       "      <td>23.845561</td>\n",
       "      <td>42.126308</td>\n",
       "      <td>39.770327</td>\n",
       "      <td>0.001395</td>\n",
       "      <td>95.130667</td>\n",
       "    </tr>\n",
       "    <tr>\n",
       "      <th>198</th>\n",
       "      <td>86.8</td>\n",
       "      <td>1</td>\n",
       "      <td>0.0</td>\n",
       "      <td>35.078084</td>\n",
       "      <td>5.440</td>\n",
       "      <td>132.0</td>\n",
       "      <td>0.0</td>\n",
       "      <td>186.0</td>\n",
       "      <td>205.0</td>\n",
       "      <td>0.549346</td>\n",
       "      <td>23.394673</td>\n",
       "      <td>40.918178</td>\n",
       "      <td>38.307336</td>\n",
       "      <td>0.001263</td>\n",
       "      <td>93.952055</td>\n",
       "    </tr>\n",
       "    <tr>\n",
       "      <th>199</th>\n",
       "      <td>104.6</td>\n",
       "      <td>1</td>\n",
       "      <td>0.0</td>\n",
       "      <td>35.621682</td>\n",
       "      <td>11.239</td>\n",
       "      <td>115.0</td>\n",
       "      <td>0.0</td>\n",
       "      <td>190.0</td>\n",
       "      <td>206.0</td>\n",
       "      <td>0.500467</td>\n",
       "      <td>22.507804</td>\n",
       "      <td>45.531916</td>\n",
       "      <td>42.601589</td>\n",
       "      <td>0.001101</td>\n",
       "      <td>97.887500</td>\n",
       "    </tr>\n",
       "    <tr>\n",
       "      <th>200</th>\n",
       "      <td>29.3</td>\n",
       "      <td>0</td>\n",
       "      <td>0.0</td>\n",
       "      <td>40.480140</td>\n",
       "      <td>9.821</td>\n",
       "      <td>144.0</td>\n",
       "      <td>0.0</td>\n",
       "      <td>191.0</td>\n",
       "      <td>206.0</td>\n",
       "      <td>0.576542</td>\n",
       "      <td>25.765514</td>\n",
       "      <td>45.204673</td>\n",
       "      <td>41.901682</td>\n",
       "      <td>0.001664</td>\n",
       "      <td>43.858333</td>\n",
       "    </tr>\n",
       "    <tr>\n",
       "      <th>201</th>\n",
       "      <td>83.3</td>\n",
       "      <td>1</td>\n",
       "      <td>0.0</td>\n",
       "      <td>40.342056</td>\n",
       "      <td>2.193</td>\n",
       "      <td>133.0</td>\n",
       "      <td>0.0</td>\n",
       "      <td>206.0</td>\n",
       "      <td>211.0</td>\n",
       "      <td>0.586075</td>\n",
       "      <td>24.302991</td>\n",
       "      <td>45.613178</td>\n",
       "      <td>42.520748</td>\n",
       "      <td>0.002710</td>\n",
       "      <td>95.130667</td>\n",
       "    </tr>\n",
       "    <tr>\n",
       "      <th>202</th>\n",
       "      <td>82.1</td>\n",
       "      <td>1</td>\n",
       "      <td>0.0</td>\n",
       "      <td>38.930701</td>\n",
       "      <td>11.190</td>\n",
       "      <td>148.0</td>\n",
       "      <td>0.0</td>\n",
       "      <td>190.0</td>\n",
       "      <td>205.0</td>\n",
       "      <td>0.562757</td>\n",
       "      <td>25.193832</td>\n",
       "      <td>44.470093</td>\n",
       "      <td>41.064393</td>\n",
       "      <td>0.001709</td>\n",
       "      <td>93.202941</td>\n",
       "    </tr>\n",
       "  </tbody>\n",
       "</table>\n",
       "<p>203 rows × 15 columns</p>\n",
       "</div>"
      ],
      "text/plain": [
       "     cyield  irig_flag  days_under0   dewPoint  precipAccumulation  precip  \\\n",
       "0      91.7          1          0.0  33.626884              25.550   118.0   \n",
       "1     110.0          1          0.0  34.370654               8.030   157.0   \n",
       "2      95.9          1          0.0  35.726977               9.752   129.0   \n",
       "3     104.2          1          0.0  37.326402               1.089   146.0   \n",
       "4      97.4          1          0.0  38.406419               3.805   132.0   \n",
       "5     145.0          1          0.0  34.378551               1.254   137.0   \n",
       "6     135.9          1          0.0  31.529673               3.898   108.0   \n",
       "7     126.8          1          0.0  29.416308               2.191   106.0   \n",
       "8     137.5          1          0.0  32.244766               5.621   106.0   \n",
       "9     114.5          1          0.0  34.437804               2.945   148.0   \n",
       "10    143.5          1          0.0  31.294626               5.791   122.0   \n",
       "11    133.2          1          0.0  29.306512               3.736   113.0   \n",
       "12    127.2          1          0.0  36.126636               2.546   148.0   \n",
       "13    139.8          1          0.0  32.437290               3.607   122.0   \n",
       "14    132.6          1          0.0  30.045023               3.118   122.0   \n",
       "15    148.8          1          0.0  33.065841               4.816   143.0   \n",
       "16    155.2          1          0.0  31.020140               7.316   121.0   \n",
       "17    141.6          1          0.0  29.313953               3.614   113.0   \n",
       "18    166.7          1          0.0  31.101581               7.022   100.0   \n",
       "19    144.5          1          0.0  32.796542               2.977   135.0   \n",
       "20    145.0          1          0.0  31.229019               6.047   103.0   \n",
       "21    137.8          1          0.0  27.668930               2.309    95.0   \n",
       "22    137.5          1          0.0  30.084720               5.751    94.0   \n",
       "23     44.0          0          0.0  39.136916               0.304    85.0   \n",
       "24     72.8          0          0.0  37.450000               0.000     0.0   \n",
       "25     51.8          0          0.0  40.121449               0.027   147.0   \n",
       "26     66.1          0          0.0  39.943224               0.196   107.0   \n",
       "27     86.4          1          0.0  44.920000               0.000     1.0   \n",
       "28     69.4          0          0.0  42.048645               0.000   115.0   \n",
       "29     77.8          1          0.0  39.200000               0.000     0.0   \n",
       "..      ...        ...          ...        ...                 ...     ...   \n",
       "173    48.0          0          0.0  37.240093               2.739   115.0   \n",
       "174    29.9          0          0.0  36.787383               2.199   117.0   \n",
       "175    92.5          1          0.0  33.648411               2.383   103.0   \n",
       "176   100.0          1          0.0  33.530888               4.055   117.0   \n",
       "177    61.6          0          0.0  35.974673               1.270   128.0   \n",
       "178    56.5          0          0.0  36.083785               3.311   133.0   \n",
       "179    87.4          1          0.0  38.064252               0.553   118.0   \n",
       "180    73.7          0          0.0  38.923832               3.774   121.0   \n",
       "181   112.3          1          0.0  36.001916               1.142   137.0   \n",
       "182    38.8          0          0.0  37.228084               2.777   124.0   \n",
       "183    43.8          0          0.0  35.980701               1.639   128.0   \n",
       "184    43.4          0          0.0  36.250981               3.399   134.0   \n",
       "185    48.8          0          0.0  36.655000               1.267   134.0   \n",
       "186   108.3          1          0.0  39.982477               5.594   119.0   \n",
       "187    54.7          0          0.0  37.775888               1.312   129.0   \n",
       "188    64.5          0          0.0  38.636121               3.716   123.0   \n",
       "189    55.0          0          0.0  49.570000               0.000     0.0   \n",
       "190    33.8          0          0.0  40.084065              48.760   138.0   \n",
       "191   103.1          1          0.0  40.833551              10.854   246.0   \n",
       "192    95.6          1          0.0  37.590607               0.110    94.0   \n",
       "193    85.5          1          0.0  40.946558               0.401   139.0   \n",
       "194    86.8          1          0.0  32.707617              18.117   110.0   \n",
       "195   110.0          1          0.0  34.983131               1.936   123.0   \n",
       "196    92.7          1          0.0  33.778224              13.226   134.0   \n",
       "197   103.6          1          0.0  34.749486               2.217   133.0   \n",
       "198    86.8          1          0.0  35.078084               5.440   132.0   \n",
       "199   104.6          1          0.0  35.621682              11.239   115.0   \n",
       "200    29.3          0          0.0  40.480140               9.821   144.0   \n",
       "201    83.3          1          0.0  40.342056               2.193   133.0   \n",
       "202    82.1          1          0.0  38.930701              11.190   148.0   \n",
       "\n",
       "     days_under_n10  days_over42  days_over32  humidity  temp_delta  \\\n",
       "0               0.0        203.0        214.0  0.499395   24.403767   \n",
       "1               0.0        206.0        213.0  0.522570   25.096075   \n",
       "2               0.0        208.0        215.0  0.518465   25.992884   \n",
       "3               0.0        213.0        213.0  0.512617   27.430888   \n",
       "4               0.0        212.0        215.0  0.528884   27.271953   \n",
       "5               0.0        207.0        213.0  0.531636   26.164019   \n",
       "6               0.0        204.0        210.0  0.496449   27.080561   \n",
       "7               0.0        212.0        214.0  0.441168   29.742430   \n",
       "8               0.0        202.0        214.0  0.507804   29.107523   \n",
       "9               0.0        206.0        213.0  0.533645   24.807477   \n",
       "10              0.0        205.0        210.0  0.497850   25.930794   \n",
       "11              0.0        210.0        215.0  0.452884   28.908326   \n",
       "12              0.0        204.0        213.0  0.544439   24.923458   \n",
       "13              0.0        205.0        211.0  0.494533   26.258598   \n",
       "14              0.0        212.0        215.0  0.433953   28.600930   \n",
       "15              0.0        204.0        211.0  0.534907   23.337664   \n",
       "16              0.0        199.0        209.0  0.508224   24.821776   \n",
       "17              0.0        207.0        215.0  0.457953   28.237070   \n",
       "18              0.0        191.0        214.0  0.517814   26.715209   \n",
       "19              0.0        204.0        213.0  0.531355   23.665701   \n",
       "20              0.0        200.0        210.0  0.504346   25.301402   \n",
       "21              0.0        209.0        215.0  0.424093   28.311535   \n",
       "22              0.0        197.0        214.0  0.481682   27.605000   \n",
       "23              0.0        211.0        214.0  0.520701   23.742617   \n",
       "24              0.0          1.0          1.0  0.510000   28.130000   \n",
       "25              0.0        210.0        214.0  0.618692   22.668084   \n",
       "26              0.0        209.0        214.0  0.553364   23.273131   \n",
       "27              0.0          1.0          1.0  0.750000   15.590000   \n",
       "28              0.0        202.0        214.0  0.629673   20.758364   \n",
       "29              0.0          1.0          1.0  0.550000   28.360000   \n",
       "..              ...          ...          ...       ...         ...   \n",
       "173             0.0        203.0        210.0  0.558551   23.124112   \n",
       "174             0.0        193.0        203.0  0.567523   23.790888   \n",
       "175             0.0        204.0        213.0  0.521308   27.771636   \n",
       "176             0.0        191.0        210.0  0.526869   26.831963   \n",
       "177             0.0        202.0        211.0  0.550981   25.277009   \n",
       "178             0.0        189.0        207.0  0.564766   25.459346   \n",
       "179             0.0        208.0        211.0  0.505888   23.890701   \n",
       "180             0.0        193.0        206.0  0.530280   23.055421   \n",
       "181             0.0        204.0        211.0  0.516308   23.691963   \n",
       "182             0.0        193.0        205.0  0.544252   23.735374   \n",
       "183             0.0        203.0        211.0  0.542150   24.474766   \n",
       "184             0.0        189.0        204.0  0.559907   24.757897   \n",
       "185             0.0        204.0        211.0  0.534813   23.103738   \n",
       "186             0.0        193.0        205.0  0.566776   23.089206   \n",
       "187             0.0        204.0        211.0  0.515841   22.858224   \n",
       "188             0.0        194.0        203.0  0.543598   22.380234   \n",
       "189             0.0        187.0        187.0  0.670000   21.110000   \n",
       "190             0.0        183.0        200.0  0.595000   21.372243   \n",
       "191             0.0        380.0        408.0  0.581402   22.694252   \n",
       "192             0.0        210.0        213.0  0.459486   26.707150   \n",
       "193             0.0        207.0        215.0  0.606465   24.844605   \n",
       "194             0.0        190.0        205.0  0.472850   22.545140   \n",
       "195             0.0        204.0        211.0  0.511215   22.364579   \n",
       "196             0.0        187.0        205.0  0.507009   21.160888   \n",
       "197             0.0        204.0        211.0  0.530374   23.845561   \n",
       "198             0.0        186.0        205.0  0.549346   23.394673   \n",
       "199             0.0        190.0        206.0  0.500467   22.507804   \n",
       "200             0.0        191.0        206.0  0.576542   25.765514   \n",
       "201             0.0        206.0        211.0  0.586075   24.302991   \n",
       "202             0.0        190.0        205.0  0.562757   25.193832   \n",
       "\n",
       "     temperatureMin  apparentTemperatureMin  precipIntensity      y_pred  \n",
       "0         44.021628               41.704372         0.003418   95.130667  \n",
       "1         42.816776               40.463224         0.002680   95.130667  \n",
       "2         44.433674               42.092744         0.002350   95.130667  \n",
       "3         46.196215               43.915981         0.002568   95.130667  \n",
       "4         46.369070               44.069163         0.002329   95.130667  \n",
       "5         40.776402               38.332290         0.001316  135.631579  \n",
       "6         39.440280               36.112850         0.001222  142.791667  \n",
       "7         39.777336               36.011589         0.000644  142.791667  \n",
       "8         38.919673               34.844907         0.000912  137.315000  \n",
       "9         41.086822               38.864159         0.001537  113.253226  \n",
       "10        39.298271               35.955794         0.001502  142.791667  \n",
       "11        39.121023               35.274698         0.000936  137.800000  \n",
       "12        42.376215               40.206916         0.001910  110.961667  \n",
       "13        40.886589               38.336916         0.001480  137.315000  \n",
       "14        41.598791               38.969256         0.001027  135.631579  \n",
       "15        40.342383               37.738972         0.001433  137.315000  \n",
       "16        38.862617               35.209813         0.001402  162.100000  \n",
       "17        39.090744               34.732512         0.000893  137.800000  \n",
       "18        37.903256               32.906140         0.000993  162.100000  \n",
       "19        40.506449               36.806075         0.001469  137.315000  \n",
       "20        39.540280               35.427664         0.001231  142.791667  \n",
       "21        39.917023               35.513767         0.000718  137.800000  \n",
       "22        38.830794               34.322757         0.001031  142.791667  \n",
       "23        47.390047               45.924533         0.001069   62.014634  \n",
       "24        44.910000               44.260000         0.000000   62.014634  \n",
       "25        44.656589               42.200280         0.002153   64.193939  \n",
       "26        46.578224               45.827944         0.001258   62.014634  \n",
       "27        43.480000               43.480000         0.004200   93.202941  \n",
       "28        46.181449               45.295280         0.001848   56.740000  \n",
       "29        44.410000               44.410000         0.000000   91.113043  \n",
       "..              ...                     ...              ...         ...  \n",
       "173       43.894439               40.166215         0.001935   49.266667  \n",
       "174       42.256168               37.951822         0.002033   46.306818  \n",
       "175       39.301495               36.088598         0.001819   95.130667  \n",
       "176       38.738458               35.367290         0.001779   95.130667  \n",
       "177       41.570654               39.482850         0.001663   43.858333  \n",
       "178       40.104346               37.194953         0.001694   46.306818  \n",
       "179       47.410421               44.970794         0.001325  113.253226  \n",
       "180       46.744766               44.033131         0.001539   62.014634  \n",
       "181       44.503411               41.898738         0.001380  113.253226  \n",
       "182       43.286636               40.166402         0.001482   46.306818  \n",
       "183       42.496215               39.829299         0.001696   46.306818  \n",
       "184       40.840935               37.483084         0.001673   46.306818  \n",
       "185       44.246121               41.540000         0.001720   46.306818  \n",
       "186       45.811729               43.087009         0.002169   97.887500  \n",
       "187       46.756542               44.088879         0.001641   56.740000  \n",
       "188       46.005000               42.932710         0.001953   56.740000  \n",
       "189       53.370000               53.370000         0.000000   51.415942  \n",
       "190       45.207336               41.976916         0.003282   46.306818  \n",
       "191       46.121028               43.190888         0.002148   95.130667  \n",
       "192       48.234766               45.791636         0.000864  110.961667  \n",
       "193       45.489814               42.519721         0.002283   95.130667  \n",
       "194       44.380093               41.375514         0.000992   97.887500  \n",
       "195       44.651449               42.177664         0.001321   95.130667  \n",
       "196       43.928084               40.458645         0.001138   97.887500  \n",
       "197       42.126308               39.770327         0.001395   95.130667  \n",
       "198       40.918178               38.307336         0.001263   93.952055  \n",
       "199       45.531916               42.601589         0.001101   97.887500  \n",
       "200       45.204673               41.901682         0.001664   43.858333  \n",
       "201       45.613178               42.520748         0.002710   95.130667  \n",
       "202       44.470093               41.064393         0.001709   93.202941  \n",
       "\n",
       "[203 rows x 15 columns]"
      ]
     },
     "execution_count": 49,
     "metadata": {},
     "output_type": "execute_result"
    }
   ],
   "source": [
    "df"
   ]
  },
  {
   "cell_type": "code",
   "execution_count": 50,
   "metadata": {},
   "outputs": [],
   "source": [
    "y = df[\"y_pred\"]\n",
    "#list_ = [int(i) for i in range(189)]\n",
    "#y = df.drop(list_)\n",
    "df = df.drop([\"y_pred\"],axis = 1)"
   ]
  },
  {
   "cell_type": "code",
   "execution_count": 51,
   "metadata": {},
   "outputs": [],
   "source": [
    "#y = df[\"y_pred\"]\n",
    "#df = df.drop([\"y_pred\"],axis = 1)\n",
    "\n",
    "\n",
    "#df = df.drop(list_)"
   ]
  },
  {
   "cell_type": "code",
   "execution_count": null,
   "metadata": {},
   "outputs": [],
   "source": []
  },
  {
   "cell_type": "code",
   "execution_count": 52,
   "metadata": {},
   "outputs": [
    {
     "data": {
      "text/plain": [
       "(14, 14)"
      ]
     },
     "execution_count": 52,
     "metadata": {},
     "output_type": "execute_result"
    }
   ],
   "source": [
    "#Converting X to matrix\n",
    "X = np.asmatrix(df)\n",
    "#taking transpose of X and assigning it to x\n",
    "x= np.transpose(X)\n",
    "#finding multiplication\n",
    "T= x.dot(X) # so this is xx^T\n",
    "T.shape"
   ]
  },
  {
   "cell_type": "code",
   "execution_count": 54,
   "metadata": {},
   "outputs": [
    {
     "data": {
      "text/plain": [
       "matrix([[1.60748394e+06, 1.12576000e+04, 0.00000000e+00, 6.06163503e+05,\n",
       "         6.47434845e+04, 1.91853010e+06, 0.00000000e+00, 3.25699320e+06,\n",
       "         3.41810440e+06, 8.93360879e+03, 4.19126165e+05, 7.29574957e+05,\n",
       "         6.85956913e+05, 2.70966222e+01],\n",
       "        [1.12576000e+04, 1.02000000e+02, 0.00000000e+00, 3.60654389e+03,\n",
       "         3.58882000e+02, 1.18100000e+04, 0.00000000e+00, 2.02410000e+04,\n",
       "         2.12570000e+04, 5.28811847e+01, 2.58985458e+03, 4.40652807e+03,\n",
       "         4.13759482e+03, 1.48768122e-01],\n",
       "        [0.00000000e+00, 0.00000000e+00, 0.00000000e+00, 0.00000000e+00,\n",
       "         0.00000000e+00, 0.00000000e+00, 0.00000000e+00, 0.00000000e+00,\n",
       "         0.00000000e+00, 0.00000000e+00, 0.00000000e+00, 0.00000000e+00,\n",
       "         0.00000000e+00, 0.00000000e+00],\n",
       "        [6.06163503e+05, 3.60654389e+03, 0.00000000e+00, 2.74861221e+05,\n",
       "         3.23393690e+04, 8.44690489e+05, 0.00000000e+00, 1.41072674e+06,\n",
       "         1.48196746e+06, 4.06711968e+03, 1.82037670e+05, 3.25186173e+05,\n",
       "         3.06517417e+05, 1.34708658e+01],\n",
       "        [6.47434845e+04, 3.58882000e+02, 0.00000000e+00, 3.23393690e+04,\n",
       "         2.02115209e+04, 1.14477534e+05, 0.00000000e+00, 1.66233248e+05,\n",
       "         1.79842993e+05, 5.09104234e+02, 2.06571630e+04, 3.68024959e+04,\n",
       "         3.40904535e+04, 1.87259186e+00],\n",
       "        [1.91853010e+06, 1.18100000e+04, 0.00000000e+00, 8.44690489e+05,\n",
       "         1.14477534e+05, 2.89469900e+06, 0.00000000e+00, 4.67877900e+06,\n",
       "         4.93187300e+06, 1.26055596e+04, 5.72094072e+05, 1.00237695e+06,\n",
       "         9.39671683e+05, 3.80403773e+01],\n",
       "        [0.00000000e+00, 0.00000000e+00, 0.00000000e+00, 0.00000000e+00,\n",
       "         0.00000000e+00, 0.00000000e+00, 0.00000000e+00, 0.00000000e+00,\n",
       "         0.00000000e+00, 0.00000000e+00, 0.00000000e+00, 0.00000000e+00,\n",
       "         0.00000000e+00, 0.00000000e+00],\n",
       "        [3.25699320e+06, 2.02410000e+04, 0.00000000e+00, 1.41072674e+06,\n",
       "         1.66233248e+05, 4.67877900e+06, 0.00000000e+00, 7.84227600e+06,\n",
       "         8.23203800e+06, 2.07986308e+04, 9.57436962e+05, 1.68547139e+06,\n",
       "         1.58339700e+06, 6.07834471e+01],\n",
       "        [3.41810440e+06, 2.12570000e+04, 0.00000000e+00, 1.48196746e+06,\n",
       "         1.79842993e+05, 4.93187300e+06, 0.00000000e+00, 8.23203800e+06,\n",
       "         8.65239500e+06, 2.18918322e+04, 1.00618695e+06, 1.76900384e+06,\n",
       "         1.66123754e+06, 6.40329299e+01],\n",
       "        [8.93360879e+03, 5.28811847e+01, 0.00000000e+00, 4.06711968e+03,\n",
       "         5.09104234e+02, 1.26055596e+04, 0.00000000e+00, 2.07986308e+04,\n",
       "         2.18918322e+04, 6.06423371e+01, 2.68782862e+03, 4.79256672e+03,\n",
       "         4.51279504e+03, 2.06917428e-01],\n",
       "        [4.19126165e+05, 2.58985458e+03, 0.00000000e+00, 1.82037670e+05,\n",
       "         2.06571630e+04, 5.72094072e+05, 0.00000000e+00, 9.57436962e+05,\n",
       "         1.00618695e+06, 2.68782862e+03, 1.24152467e+05, 2.16918250e+05,\n",
       "         2.04116530e+05, 8.05139174e+00],\n",
       "        [7.29574957e+05, 4.40652807e+03, 0.00000000e+00, 3.25186173e+05,\n",
       "         3.68024959e+04, 1.00237695e+06, 0.00000000e+00, 1.68547139e+06,\n",
       "         1.76900384e+06, 4.79256672e+03, 2.16918250e+05, 3.86547445e+05,\n",
       "         3.64336038e+05, 1.54694359e+01],\n",
       "        [6.85956913e+05, 4.13759482e+03, 0.00000000e+00, 3.06517417e+05,\n",
       "         3.40904535e+04, 9.39671683e+05, 0.00000000e+00, 1.58339700e+06,\n",
       "         1.66123754e+06, 4.51279504e+03, 2.04116530e+05, 3.64336038e+05,\n",
       "         3.43604988e+05, 1.46243434e+01],\n",
       "        [2.70966222e+01, 1.48768122e-01, 0.00000000e+00, 1.34708658e+01,\n",
       "         1.87259186e+00, 3.80403773e+01, 0.00000000e+00, 6.07834471e+01,\n",
       "         6.40329299e+01, 2.06917428e-01, 8.05139174e+00, 1.54694359e+01,\n",
       "         1.46243434e+01, 1.21943485e-03]])"
      ]
     },
     "execution_count": 54,
     "metadata": {},
     "output_type": "execute_result"
    }
   ],
   "source": [
    "T"
   ]
  },
  {
   "cell_type": "code",
   "execution_count": 91,
   "metadata": {
    "scrolled": true
   },
   "outputs": [],
   "source": [
    "\n",
    "#inverse of T - provided it is invertible otherwise we use pseudoinverse \n",
    "# pseudo inverse computation\n",
    "inv = np.linalg.pinv(T)\n",
    "#calculating θ\n",
    "theta=(inv.dot(X.T)).dot(y)\n",
    "    "
   ]
  },
  {
   "cell_type": "code",
   "execution_count": 92,
   "metadata": {},
   "outputs": [
    {
     "data": {
      "text/plain": [
       "matrix([[ 5.23699103e-01,  2.21845220e+01, -1.19943571e-08,\n",
       "         -3.18646475e+00, -1.89460250e-03, -9.53212642e-02,\n",
       "          3.55884015e-10,  2.64542300e-01, -2.32925737e-01,\n",
       "          1.11240114e+02,  3.92686137e-01,  3.50291062e+00,\n",
       "         -1.72575230e+00, -4.18702196e+02]])"
      ]
     },
     "execution_count": 92,
     "metadata": {},
     "output_type": "execute_result"
    }
   ],
   "source": [
    "theta"
   ]
  },
  {
   "cell_type": "markdown",
   "metadata": {},
   "source": [
    "# Challenge \n",
    "\n",
    "Find the solution to the following system:\n",
    "\n",
    "\n",
    "\n",
    "1x + 2y + 3z = 11\n",
    "\n",
    "4x + 5y + 6z = -13\n",
    "\n",
    "5x + 7y + 9z = -8"
   ]
  },
  {
   "cell_type": "markdown",
   "metadata": {},
   "source": [
    "## Eigendecomposition: Eigenvalues and Eigenvectors"
   ]
  },
  {
   "cell_type": "markdown",
   "metadata": {},
   "source": [
    "At its most basic matrix decomposition is the process of representing some matrix of interest as a product of two or more matricies. It’s often useful to express a given matrix as the product of other, simpler matrices. These matrix decompositions (also known as factorizations) can help us understand the structure of matrices by revealing their constituents.\n",
    "\n",
    "So, The fundamental eigenvalue equation is\n",
    "\n",
    "![title](linear-algebra-with-python/bab09470c0a743ad21485fe638ce04b8fdf3e68c.svg)\n",
    "\n",
    "Which states that for a **square** matrix A, an eigenvector v is any vector that gets scaled when multpiled by A. In essence, an eigenvector v of a matrix A is a non-zero vector that, when A is applied to it, does not change direction.  Applying A to the eigenvector only scales the eigenvector by the scalar value λ, called an eigenvalue. \n",
    "\n",
    "It is useful here to think of A as a linear transformation which has the effect visualized like so. Mona Lisa Pic. \n",
    "\n",
    "\n",
    "So, the vector v only stretches or shrinks. \n"
   ]
  },
  {
   "cell_type": "markdown",
   "metadata": {},
   "source": [
    "To find the eigenvalues of a matrix, start from the eigenvalue equation, and insert the identity 1, and rewrite the equation: \n",
    "\n",
    "Av = λv\n",
    "\n",
    "Av = λ(Iv)\n",
    "\n",
    "Av - λ(Iv) = 0\n",
    "\n",
    "(A - λI)*v = 0\n",
    "\n",
    "Eigenvalues of M are those values of λ that satisfy det(A − λI). So, the last line above has a non-zero solution v if and only if the determinant of the matrix (A − λI) is zero.\n"
   ]
  },
  {
   "cell_type": "code",
   "execution_count": 59,
   "metadata": {},
   "outputs": [
    {
     "name": "stdout",
     "output_type": "stream",
     "text": [
      "[[ 7  3]\n",
      " [ 3 -1]]\n",
      "Eigenvalues : [ 8. -2.]\n"
     ]
    },
    {
     "data": {
      "text/plain": [
       "6"
      ]
     },
     "execution_count": 59,
     "metadata": {},
     "output_type": "execute_result"
    }
   ],
   "source": [
    "A = np.array([[7,3],[3,-1]])\n",
    "print(A)\n",
    "print(\"Eigenvalues :\",np.linalg.eigvals(A))\n",
    "np.trace(A)"
   ]
  },
  {
   "cell_type": "code",
   "execution_count": null,
   "metadata": {},
   "outputs": [],
   "source": []
  },
  {
   "cell_type": "code",
   "execution_count": 60,
   "metadata": {},
   "outputs": [],
   "source": [
    "# To simultaneously compute eigenvector and eigvenvalues\n",
    "\n",
    "eig_vals,eig_vecs = np.linalg.eig(A)"
   ]
  },
  {
   "cell_type": "code",
   "execution_count": 61,
   "metadata": {},
   "outputs": [
    {
     "name": "stdout",
     "output_type": "stream",
     "text": [
      "Eigenvalues : [ 8. -2.]\n",
      "Eigenvectors: [[ 0.9486833  -0.31622777]\n",
      " [ 0.31622777  0.9486833 ]]\n"
     ]
    }
   ],
   "source": [
    "print(\"Eigenvalues :\",eig_vals)\n",
    "print(\"Eigenvectors:\",eig_vecs)"
   ]
  },
  {
   "cell_type": "code",
   "execution_count": 176,
   "metadata": {},
   "outputs": [
    {
     "name": "stdout",
     "output_type": "stream",
     "text": [
      "The vector, [0.9486833  0.31622777]\n",
      "corresponds to, 8.0\n",
      "The vector, [-0.31622777  0.9486833 ]\n",
      "corresponds to, -2.0\n"
     ]
    },
    {
     "data": {
      "text/plain": [
       "(None, None)"
      ]
     },
     "execution_count": 176,
     "metadata": {},
     "output_type": "execute_result"
    }
   ],
   "source": [
    "(print(\"The vector,\",eig_vecs[:,0]),print(\"corresponds to,\",eig_vals[0]))\n",
    "(print(\"The vector,\",eig_vecs[:,1]),print(\"corresponds to,\",eig_vals[1]))\n",
    "\n"
   ]
  },
  {
   "cell_type": "code",
   "execution_count": 177,
   "metadata": {
    "collapsed": true
   },
   "outputs": [],
   "source": [
    "#Lets's do a quick check:\n",
    "A_check = np.dot(A,eig_vecs[:,0])"
   ]
  },
  {
   "cell_type": "code",
   "execution_count": 178,
   "metadata": {},
   "outputs": [
    {
     "data": {
      "text/plain": [
       "array([7.58946638, 2.52982213])"
      ]
     },
     "execution_count": 178,
     "metadata": {},
     "output_type": "execute_result"
    }
   ],
   "source": [
    "A_check"
   ]
  },
  {
   "cell_type": "code",
   "execution_count": 179,
   "metadata": {
    "collapsed": true
   },
   "outputs": [],
   "source": [
    "A_eig_check = np.dot(eig_vals[0],eig_vecs[:,0])"
   ]
  },
  {
   "cell_type": "code",
   "execution_count": 182,
   "metadata": {},
   "outputs": [
    {
     "data": {
      "text/plain": [
       "array([7.58946638, 2.52982213])"
      ]
     },
     "execution_count": 182,
     "metadata": {},
     "output_type": "execute_result"
    }
   ],
   "source": [
    "A_eig_check "
   ]
  },
  {
   "cell_type": "code",
   "execution_count": 185,
   "metadata": {},
   "outputs": [
    {
     "data": {
      "text/plain": [
       "array([ True,  True])"
      ]
     },
     "execution_count": 185,
     "metadata": {},
     "output_type": "execute_result"
    }
   ],
   "source": [
    "#Yay!!\n",
    "A_check == A_eig_check"
   ]
  },
  {
   "cell_type": "markdown",
   "metadata": {},
   "source": [
    "## Challenge "
   ]
  },
  {
   "cell_type": "code",
   "execution_count": 188,
   "metadata": {},
   "outputs": [
    {
     "name": "stdout",
     "output_type": "stream",
     "text": [
      "[[-1  2]\n",
      " [ 1 -2]]\n"
     ]
    }
   ],
   "source": [
    "#Can the following matrix be eigendecomposed?\n",
    "challenge_matrix = matrix2\n",
    "print(challenge_matrix)"
   ]
  },
  {
   "cell_type": "markdown",
   "metadata": {},
   "source": [
    "### Discussion: \n",
    "The eigendecomposition of a matrix is a similarity transformation (a change of basis) where the new basis matrix consists of eigenvectors of the matrix. Its role in machine learning becomes clear when we use it for Singular Value decomposition. "
   ]
  },
  {
   "cell_type": "markdown",
   "metadata": {},
   "source": [
    "# Singular Value Decomposition\n",
    "\n",
    "What if we consider a non-square, m x n matrix A? We can no longer apply the eigendecomposition as above. The SVD always exists for any sort of rectangular or square matrix, whereas the eigendecomposition can only exist for square matrices, and even among square matrices sometimes it doesn't exist. Why? Because as we saw in the challenge, the square matrix was not eigendecomposable and had a solution for λ equal to zero. \n",
    "\n",
    "\n",
    "The singular value decomposition breaks a matrix into the product of three matrices: an m × m orthogonal matrix U which consists of left singular vectors, an m × n matrix D with the singular values σi on the diagonal, and an n × n orthogonal matrix V T of right singular vector.\n",
    "\n",
    "![title](linear-algebra-with-python/svd.gif)\n",
    "\n",
    "The singular values of a m×n matrix A are the square roots of the eigenvalues of the n×n matrix $X^TX$.\n",
    "\n",
    "Thus, if A is a N×N real symmetric matrix , its eigenvalues and singular values coincide, but it is not generally the case! We will demonstrate this.\n",
    "\n",
    "\n",
    "\n",
    "To find the matrices U , D, and V , perform eigendecomposition on the matrix products $AA^T$ and $A^TA$. The reason for the inclusion of such matricies is because multiplying the matrix by its transpose is a trick for turning a non-square matrix into a square matrix while preserving some of its properties. The matrix $AA^T$ has the same column space as A whlie $A^TA$ has the same row space as A. \n"
   ]
  },
  {
   "cell_type": "code",
   "execution_count": 193,
   "metadata": {
    "collapsed": true
   },
   "outputs": [],
   "source": [
    "non_square_matrix = [matrix_3]"
   ]
  },
  {
   "cell_type": "code",
   "execution_count": 194,
   "metadata": {
    "collapsed": true
   },
   "outputs": [],
   "source": [
    "U, s, V = np.linalg.svd(A, full_matrices=True) #  for square matrix (m x m)\n",
    "U_1, s_1, V_1 = np.linalg.svd(non_square_matrix, full_matrices=False) # for normal matrix (m x n)"
   ]
  },
  {
   "cell_type": "code",
   "execution_count": 187,
   "metadata": {},
   "outputs": [
    {
     "data": {
      "text/plain": [
       "array([[-0.9486833 , -0.31622777],\n",
       "       [-0.31622777,  0.9486833 ]])"
      ]
     },
     "execution_count": 187,
     "metadata": {},
     "output_type": "execute_result"
    }
   ],
   "source": [
    "U"
   ]
  },
  {
   "cell_type": "code",
   "execution_count": 191,
   "metadata": {},
   "outputs": [
    {
     "data": {
      "text/plain": [
       "array([8., 2.])"
      ]
     },
     "execution_count": 191,
     "metadata": {},
     "output_type": "execute_result"
    }
   ],
   "source": [
    "s"
   ]
  },
  {
   "cell_type": "code",
   "execution_count": 192,
   "metadata": {},
   "outputs": [
    {
     "data": {
      "text/plain": [
       "array([[-0.9486833 , -0.31622777],\n",
       "       [ 0.31622777, -0.9486833 ]])"
      ]
     },
     "execution_count": 192,
     "metadata": {},
     "output_type": "execute_result"
    }
   ],
   "source": [
    "V"
   ]
  },
  {
   "cell_type": "markdown",
   "metadata": {},
   "source": [
    "As we can see the SVD and Eigendecomposition for the square matrix A are the same. \n",
    "Below, we have the SVD computation for the non_square_matrix."
   ]
  },
  {
   "cell_type": "code",
   "execution_count": 195,
   "metadata": {},
   "outputs": [
    {
     "data": {
      "text/plain": [
       "array([[[-0.56231339,  0.82692421],\n",
       "        [-0.78448919, -0.53345732],\n",
       "        [-0.2614964 , -0.17781911]]])"
      ]
     },
     "execution_count": 195,
     "metadata": {},
     "output_type": "execute_result"
    }
   ],
   "source": [
    "U_1"
   ]
  },
  {
   "cell_type": "code",
   "execution_count": 196,
   "metadata": {},
   "outputs": [
    {
     "data": {
      "text/plain": [
       "array([[5.34803427, 1.18259439]])"
      ]
     },
     "execution_count": 196,
     "metadata": {},
     "output_type": "execute_result"
    }
   ],
   "source": [
    "s_1"
   ]
  },
  {
   "cell_type": "code",
   "execution_count": 197,
   "metadata": {},
   "outputs": [
    {
     "data": {
      "text/plain": [
       "array([[[-0.59410191, -0.80438978],\n",
       "        [-0.80438978,  0.59410191]]])"
      ]
     },
     "execution_count": 197,
     "metadata": {},
     "output_type": "execute_result"
    }
   ],
   "source": [
    "V_1"
   ]
  },
  {
   "cell_type": "markdown",
   "metadata": {},
   "source": [
    "## Application of SVD to Data Science: PCA"
   ]
  },
  {
   "cell_type": "markdown",
   "metadata": {},
   "source": [
    "### SVD to PCA\n",
    "\n",
    "When we want to reduce the dimensionality of a matrix (think a dataframe), we often use SVD since SVD can help us strip a dataset of redundnacy/noise and leave us only with its important features. SVD is an important concept utilized in Principal Component Analysis. Redundant features cause a lots of problems in running machine learning algorithms. Also, running an algorithm on the original data set will be time inefficient and will require a lot of memory. \n",
    "\n",
    "Principal component analysis (PCA) refers to the process by which principal components are computed. A Principal components allow us to summarize this set with a smaller number of representative variables that collectively explain most of the variability in the original set.PCA is an unsupervised approach, since it involves only a set of features $X_1, X_2, . . . , X_p$ and no associated response Y . P\n",
    "\n",
    "\n",
    "So in PCA, we try and discovers relationships between our variables and reduces variables down to uncorrelated, synsthetic representations. These relationships are discovered by understanding the directions of maximum varaince in our data."
   ]
  },
  {
   "cell_type": "markdown",
   "metadata": {},
   "source": [
    "Let X be a n x m matrix (n samples and m variables). Then its covariance matrix C is given by:                                      \n",
    "                               $C = X^TX / (n-1)$\n",
    "\n",
    "What is the covariance matrix? The covariance matrix captures the joint variability of pairs of variables $X_1$ and  $X_2$ and therefore captures the covariance of all pairs of variables. \n",
    "\n",
    "In this matrix,C, we may encounter some zero and non-zero values. Zero implies independence between the variables. So, why are we worried about the covariance matrix? As mentioned before, PCA is interested in identifying improved representations that explain most of the variability. \n",
    "\n",
    "Once the covarience matrix is computed now we must identify the hierarchy of our new low-dimensional space. That is, which is the direction along which our first principal component exists. Then our second, and so on so forth until we have maximized the explained variance. To do this, we use SVD where the singular values we compute and their associated eigenvectors.\n",
    "\n",
    "Roughly speaking, the singular values (square root of eigenvalues) with the lowest values bear the least information about the data, and those are the ones we want to drop. The common approach is to rank the eigenvectors from highest to lowest corresponding singular value and choose the top k eigenvectors.\n",
    "\n",
    "Once we do this, we now have a new subspace which defines our data and a hierarchy of the variables that exist in that subspace. "
   ]
  },
  {
   "cell_type": "markdown",
   "metadata": {
    "collapsed": true
   },
   "source": [
    "# Homework for Linear Algebra\n",
    "\n",
    "Problem:\n",
    "The matrix A has ($1, 2, 1)^T$ and $(1, 1, 0)^T$ as eigenvectors, both with eigenvalue 7, and its trace is 2.\n",
    "Find the determinant of A"
   ]
  },
  {
   "cell_type": "code",
   "execution_count": null,
   "metadata": {},
   "outputs": [],
   "source": []
  },
  {
   "cell_type": "code",
   "execution_count": null,
   "metadata": {},
   "outputs": [],
   "source": []
  }
 ],
 "metadata": {
  "kernelspec": {
   "display_name": "Python 3",
   "language": "python",
   "name": "python3"
  },
  "language_info": {
   "codemirror_mode": {
    "name": "ipython",
    "version": 3
   },
   "file_extension": ".py",
   "mimetype": "text/x-python",
   "name": "python",
   "nbconvert_exporter": "python",
   "pygments_lexer": "ipython3",
   "version": "3.6.4"
  }
 },
 "nbformat": 4,
 "nbformat_minor": 2
}
